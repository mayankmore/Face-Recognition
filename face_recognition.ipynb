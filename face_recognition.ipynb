{
 "cells": [
  {
   "cell_type": "code",
   "execution_count": 2,
   "metadata": {},
   "outputs": [],
   "source": [
    "import cv2\n",
    "import numpy as np\n",
    "import os"
   ]
  },
  {
   "cell_type": "markdown",
   "metadata": {},
   "source": [
    "## KNN Code"
   ]
  },
  {
   "cell_type": "code",
   "execution_count": 3,
   "metadata": {},
   "outputs": [],
   "source": [
    "def distance(x,y):\n",
    "    return np.sqrt(((x-y)**2).sum())\n",
    "\n",
    "def knn(train,test,k=5):\n",
    "    dist = []\n",
    "    for i in range(train.shape[0]):\n",
    "        #Get vector and label\n",
    "        ix = train[i, :-1]\n",
    "        iy = train[i,-1]\n",
    "        \n",
    "        d = distance(test,ix)\n",
    "        dist.append([d,iy])\n",
    "    #Sort on basis of distance\n",
    "    nk = sorted(dist,key=lambda x:x[0])[:k]\n",
    "    #Retrieve labels\n",
    "    labels = np.array(nk)[:,-1]\n",
    "    \n",
    "    #Get frequency of each label\n",
    "    pred = np.unique(labels,return_counts=True)\n",
    "    index = np.argmax(pred[1])\n",
    "    return pred[0][index]"
   ]
  },
  {
   "cell_type": "markdown",
   "metadata": {},
   "source": [
    "## Implemantation"
   ]
  },
  {
   "cell_type": "code",
   "execution_count": 4,
   "metadata": {},
   "outputs": [],
   "source": [
    "cap = cv2.VideoCapture(0)\n",
    "face_cascade = cv2.CascadeClassifier('haarcascade_frontalface_alt.xml')\n",
    "skip = 0\n",
    "dataset_path = './data_face/'\n",
    "\n",
    "face_data = []\n",
    "labels = []\n",
    "#Labels for given file\n",
    "class_id = 0\n",
    "#Mapping b/w id and name\n",
    "names = {}\n",
    "\n",
    "#Data Preparation\n",
    "\n",
    "for fx in os.listdir(dataset_path):\n",
    "    if fx.endswith('.npy'):\n",
    "        #Mapping\n",
    "        names[class_id] = fx[:-4]\n",
    "        data_item = np.load(dataset_path+fx)\n",
    "        face_data.append(data_item)\n",
    "        \n",
    "        #Create labels\n",
    "        target = class_id*np.ones((data_item.shape[0],))\n",
    "        class_id += 1\n",
    "        labels.append(target)\n",
    "        \n",
    "face_dataset = np.concatenate(face_data,axis=0)\n",
    "face_labels = np.concatenate(labels,axis=0).reshape((-1,1))\n",
    "\n",
    "train_data = np.concatenate((face_dataset,face_labels),axis=1)\n",
    "\n",
    "#Test Data\n",
    "while True:\n",
    "    ret,frame = cap.read()\n",
    "    if ret == False:\n",
    "        continue\n",
    "    faces = face_cascade.detectMultiScale(frame,1.3,5)\n",
    "    for face in faces:\n",
    "        x,y,w,h = face\n",
    "        offset = 10\n",
    "        face_section = frame[y-offset:y+h+offset,x-offset:x+w+offset]\n",
    "        face_section = cv2.resize(face_section,(100,100),cv2.INTER_AREA)\n",
    "        \n",
    "        #Prediction\n",
    "        pred = knn(train_data,face_section.flatten())\n",
    "        \n",
    "        #Output\n",
    "        pred_name = names[int(pred)]\n",
    "        cv2.putText(frame,pred_name,(x-10,y-10),cv2.FONT_HERSHEY_COMPLEX,1,(0,0,255),2,cv2.LINE_AA)\n",
    "        cv2.rectangle(frame,(x,y),(x+w,y+h),(255,100,100),2)\n",
    "        \n",
    "    cv2.imshow('Faces',frame)\n",
    "    \n",
    "    pressed_key = cv2.waitKey(1) & 0XFF\n",
    "    if pressed_key == ord('q'):\n",
    "        break\n",
    "cap.release()\n",
    "cv2.destroyAllWindows()\n",
    "    "
   ]
  },
  {
   "cell_type": "code",
   "execution_count": null,
   "metadata": {},
   "outputs": [],
   "source": []
  }
 ],
 "metadata": {
  "kernelspec": {
   "display_name": "Python 3",
   "language": "python",
   "name": "python3"
  },
  "language_info": {
   "codemirror_mode": {
    "name": "ipython",
    "version": 3
   },
   "file_extension": ".py",
   "mimetype": "text/x-python",
   "name": "python",
   "nbconvert_exporter": "python",
   "pygments_lexer": "ipython3",
   "version": "3.8.5"
  }
 },
 "nbformat": 4,
 "nbformat_minor": 4
}
