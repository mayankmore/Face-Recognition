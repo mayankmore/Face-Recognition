{
 "cells": [
  {
   "cell_type": "code",
   "execution_count": 10,
   "metadata": {},
   "outputs": [],
   "source": [
    "import cv2\n",
    "import numpy as np"
   ]
  },
  {
   "cell_type": "code",
   "execution_count": 11,
   "metadata": {},
   "outputs": [
    {
     "name": "stdout",
     "output_type": "stream",
     "text": [
      "Enter the name of the person :Murari\n",
      "1\n",
      "2\n",
      "3\n",
      "4\n",
      "5\n",
      "6\n",
      "7\n",
      "8\n",
      "9\n",
      "10\n",
      "11\n",
      "12\n",
      "13\n",
      "14\n",
      "15\n",
      "(15, 30000)\n",
      "Data successfully saved at./data_face/Murari.npy\n"
     ]
    }
   ],
   "source": [
    "#Initialise Camera\n",
    "cap = cv2.VideoCapture(0)\n",
    "\n",
    "#Face detection\n",
    "face_cascade = cv2.CascadeClassifier('haarcascade_frontalface_alt.xml')\n",
    "\n",
    "skip = 0\n",
    "face_data = []\n",
    "dataset_path = './data_face/'\n",
    "file_name = input(\"Enter the name of the person :\")\n",
    "\n",
    "while True:\n",
    "    ret,frame = cap.read()\n",
    "    if ret==False:\n",
    "        continue\n",
    "    gray_frame = cv2.cvtColor(frame,cv2.COLOR_BGR2GRAY)\n",
    "    \n",
    "    faces = face_cascade.detectMultiScale(frame,1.3,5)\n",
    "    #sort faces on basis of area\n",
    "    faces = sorted(faces,key=lambda f:f[2]*f[3])\n",
    "    \n",
    "    for face in faces[-1:]:\n",
    "        x,y,w,h = face\n",
    "        cv2.rectangle(frame,(x,y),(x+w,y+h),(255,0,255),2)\n",
    "        \n",
    "        #Crop the required face\n",
    "        offset = 10\n",
    "        face_section = frame[y-offset:y+h+offset,x-offset:x+w+offset]\n",
    "        face_section = cv2.resize(face_section,(100,100))\n",
    "        \n",
    "        skip += 1\n",
    "        if skip%10==0:\n",
    "            face_data.append(face_section)\n",
    "            print(len(face_data))\n",
    "        \n",
    "    cv2.imshow('Frame',frame)\n",
    "    cv2.imshow('Face section',face_section)\n",
    "    \n",
    "    key_pressed = cv2.waitKey(1) & 0xFF\n",
    "    if key_pressed == ord('q'):\n",
    "        break\n",
    "        \n",
    "#Convert face list to numpy array\n",
    "face_data = np.asarray(face_data)\n",
    "face_data = face_data.reshape((face_data.shape[0],-1))\n",
    "print(face_data.shape)\n",
    "\n",
    "#Save data on file system\n",
    "np.save(dataset_path+file_name+'.npy',face_data)\n",
    "print(\"Data successfully saved at\"+dataset_path+file_name+'.npy')\n",
    "\n",
    "cap.release()\n",
    "cv2.destroyAllWindows()"
   ]
  },
  {
   "cell_type": "code",
   "execution_count": null,
   "metadata": {},
   "outputs": [],
   "source": []
  }
 ],
 "metadata": {
  "kernelspec": {
   "display_name": "Python 3",
   "language": "python",
   "name": "python3"
  },
  "language_info": {
   "codemirror_mode": {
    "name": "ipython",
    "version": 3
   },
   "file_extension": ".py",
   "mimetype": "text/x-python",
   "name": "python",
   "nbconvert_exporter": "python",
   "pygments_lexer": "ipython3",
   "version": "3.8.5"
  }
 },
 "nbformat": 4,
 "nbformat_minor": 4
}
